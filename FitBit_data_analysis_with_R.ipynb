{
 "cells": [
  {
   "cell_type": "markdown",
   "id": "0571c7d7",
   "metadata": {},
   "source": [
    "# Fitbit Exploratory Analysis"
   ]
  },
  {
   "cell_type": "markdown",
   "id": "9f75b152",
   "metadata": {},
   "source": [
    "## Table of Contents\n",
    "\n",
    "### *1 Introduction*\n",
    "### *2 Importing Packages and creating wd*\n",
    "### *3 Daily activity analysis*\n",
    "### *4 Daily sleep analysis*\n",
    "### *5 Finding when the workouts are done by individuals on average*\n",
    "### *6 Checking calories burnt and Intensity of workout to check correlation*\n",
    "####     *6.1 Importing datasets and visualizing individually*\n",
    "####     *6.2 Checking correlation between intensity and calories*\n",
    "### *7 Relationship between BMI and Weight*"
   ]
  },
  {
   "cell_type": "markdown",
   "id": "1692e8c4",
   "metadata": {},
   "source": [
    "## 1 Introduction\n",
    "\n",
    "**Data used-** \n",
    "\n",
    "  - Fitbit Fitness Tracker data\n",
    "  - Source: https://www.kaggle.com/arashnic/fitbit \n",
    "  - Background on the data: 33 users consented to use their minute- level data which was captured between 12-4-2016 to 12-05-2016.\n",
    "  - License: CC0 1.0 Universal (CC0 1.0) Public Domain Dedication\n",
    "  - User data is anonymous, taken from Amazon hence credible and authentic. \n"
   ]
  },
  {
   "cell_type": "markdown",
   "id": "79fd5831",
   "metadata": {},
   "source": [
    "## 2 Importing Packages and creating wd \n",
    "\n",
    "  First, we need the following packages:   \n",
    "  - Tidyverse  \n",
    "  - Readr  \n",
    "  - Readxl  \n",
    "  - Skimr  \n",
    "  - sqldf"
   ]
  },
  {
   "cell_type": "code",
   "execution_count": 1,
   "id": "cd240caf",
   "metadata": {},
   "outputs": [
    {
     "name": "stderr",
     "output_type": "stream",
     "text": [
      "-- \u001b[1mAttaching packages\u001b[22m ------------------------------------------------------------------------------- tidyverse 1.3.1 --\n",
      "\n",
      "\u001b[32mv\u001b[39m \u001b[34mggplot2\u001b[39m 3.3.5     \u001b[32mv\u001b[39m \u001b[34mpurrr  \u001b[39m 0.3.4\n",
      "\u001b[32mv\u001b[39m \u001b[34mtibble \u001b[39m 3.1.6     \u001b[32mv\u001b[39m \u001b[34mdplyr  \u001b[39m 1.0.7\n",
      "\u001b[32mv\u001b[39m \u001b[34mtidyr  \u001b[39m 1.1.4     \u001b[32mv\u001b[39m \u001b[34mstringr\u001b[39m 1.4.0\n",
      "\u001b[32mv\u001b[39m \u001b[34mreadr  \u001b[39m 2.1.0     \u001b[32mv\u001b[39m \u001b[34mforcats\u001b[39m 0.5.1\n",
      "\n",
      "-- \u001b[1mConflicts\u001b[22m ---------------------------------------------------------------------------------- tidyverse_conflicts() --\n",
      "\u001b[31mx\u001b[39m \u001b[34mdplyr\u001b[39m::\u001b[32mfilter()\u001b[39m masks \u001b[34mstats\u001b[39m::filter()\n",
      "\u001b[31mx\u001b[39m \u001b[34mdplyr\u001b[39m::\u001b[32mlag()\u001b[39m    masks \u001b[34mstats\u001b[39m::lag()\n",
      "\n",
      "Loading required package: gsubfn\n",
      "\n",
      "Loading required package: proto\n",
      "\n",
      "Loading required package: RSQLite\n",
      "\n"
     ]
    }
   ],
   "source": [
    "library(tidyverse)\n",
    "library(readr)\n",
    "library(readxl)\n",
    "library(skimr)\n",
    "library(sqldf)"
   ]
  },
  {
   "cell_type": "code",
   "execution_count": 2,
   "id": "e8090857",
   "metadata": {},
   "outputs": [
    {
     "data": {
      "text/html": [
       "'E:/Projects/Fitbit EA/Repo files'"
      ],
      "text/latex": [
       "'E:/Projects/Fitbit EA/Repo files'"
      ],
      "text/markdown": [
       "'E:/Projects/Fitbit EA/Repo files'"
      ],
      "text/plain": [
       "[1] \"E:/Projects/Fitbit EA/Repo files\""
      ]
     },
     "metadata": {},
     "output_type": "display_data"
    }
   ],
   "source": [
    "# Creating wd variable\n",
    "wd <- getwd()\n",
    "wd"
   ]
  },
  {
   "cell_type": "markdown",
   "id": "3dcb8439",
   "metadata": {},
   "source": [
    "## 3 Daily activity analysis\n",
    "\n",
    "First, we create dataframes for daily activity which is stored in the working directory"
   ]
  },
  {
   "cell_type": "code",
   "execution_count": 3,
   "id": "f7e78a71",
   "metadata": {},
   "outputs": [
    {
     "name": "stderr",
     "output_type": "stream",
     "text": [
      "\u001b[1mRows: \u001b[22m\u001b[34m940\u001b[39m \u001b[1mColumns: \u001b[22m\u001b[34m15\u001b[39m\n",
      "\n",
      "\u001b[36m--\u001b[39m \u001b[1mColumn specification\u001b[22m \u001b[36m------------------------------------------------------------------------------------------------\u001b[39m\n",
      "\u001b[1mDelimiter:\u001b[22m \",\"\n",
      "\u001b[31mchr\u001b[39m  (1): ActivityDate\n",
      "\u001b[32mdbl\u001b[39m (14): Id, TotalSteps, TotalDistance, TrackerDistance, LoggedActivitiesDi...\n",
      "\n",
      "\n",
      "\u001b[36mi\u001b[39m Use \u001b[30m\u001b[47m\u001b[30m\u001b[47m`spec()`\u001b[47m\u001b[30m\u001b[49m\u001b[39m to retrieve the full column specification for this data.\n",
      "\u001b[36mi\u001b[39m Specify the column types or set \u001b[30m\u001b[47m\u001b[30m\u001b[47m`show_col_types = FALSE`\u001b[47m\u001b[30m\u001b[49m\u001b[39m to quiet this message.\n",
      "\n"
     ]
    }
   ],
   "source": [
    "daily_act_df <- read_csv(paste0(wd,\"/dailyActivity_merged.csv\"))"
   ]
  },
  {
   "cell_type": "code",
   "execution_count": 4,
   "id": "12f06bde",
   "metadata": {
    "scrolled": true
   },
   "outputs": [
    {
     "data": {
      "text/html": [
       "<table class=\"dataframe\">\n",
       "<caption>A tibble: 6 × 15</caption>\n",
       "<thead>\n",
       "\t<tr><th scope=col>Id</th><th scope=col>ActivityDate</th><th scope=col>TotalSteps</th><th scope=col>TotalDistance</th><th scope=col>TrackerDistance</th><th scope=col>LoggedActivitiesDistance</th><th scope=col>VeryActiveDistance</th><th scope=col>ModeratelyActiveDistance</th><th scope=col>LightActiveDistance</th><th scope=col>SedentaryActiveDistance</th><th scope=col>VeryActiveMinutes</th><th scope=col>FairlyActiveMinutes</th><th scope=col>LightlyActiveMinutes</th><th scope=col>SedentaryMinutes</th><th scope=col>Calories</th></tr>\n",
       "\t<tr><th scope=col>&lt;dbl&gt;</th><th scope=col>&lt;chr&gt;</th><th scope=col>&lt;dbl&gt;</th><th scope=col>&lt;dbl&gt;</th><th scope=col>&lt;dbl&gt;</th><th scope=col>&lt;dbl&gt;</th><th scope=col>&lt;dbl&gt;</th><th scope=col>&lt;dbl&gt;</th><th scope=col>&lt;dbl&gt;</th><th scope=col>&lt;dbl&gt;</th><th scope=col>&lt;dbl&gt;</th><th scope=col>&lt;dbl&gt;</th><th scope=col>&lt;dbl&gt;</th><th scope=col>&lt;dbl&gt;</th><th scope=col>&lt;dbl&gt;</th></tr>\n",
       "</thead>\n",
       "<tbody>\n",
       "\t<tr><td>1503960366</td><td>4/12/2016</td><td>13162</td><td>8.50</td><td>8.50</td><td>0</td><td>1.88</td><td>0.55</td><td>6.06</td><td>0</td><td>25</td><td>13</td><td>328</td><td> 728</td><td>1985</td></tr>\n",
       "\t<tr><td>1503960366</td><td>4/13/2016</td><td>10735</td><td>6.97</td><td>6.97</td><td>0</td><td>1.57</td><td>0.69</td><td>4.71</td><td>0</td><td>21</td><td>19</td><td>217</td><td> 776</td><td>1797</td></tr>\n",
       "\t<tr><td>1503960366</td><td>4/14/2016</td><td>10460</td><td>6.74</td><td>6.74</td><td>0</td><td>2.44</td><td>0.40</td><td>3.91</td><td>0</td><td>30</td><td>11</td><td>181</td><td>1218</td><td>1776</td></tr>\n",
       "\t<tr><td>1503960366</td><td>4/15/2016</td><td> 9762</td><td>6.28</td><td>6.28</td><td>0</td><td>2.14</td><td>1.26</td><td>2.83</td><td>0</td><td>29</td><td>34</td><td>209</td><td> 726</td><td>1745</td></tr>\n",
       "\t<tr><td>1503960366</td><td>4/16/2016</td><td>12669</td><td>8.16</td><td>8.16</td><td>0</td><td>2.71</td><td>0.41</td><td>5.04</td><td>0</td><td>36</td><td>10</td><td>221</td><td> 773</td><td>1863</td></tr>\n",
       "\t<tr><td>1503960366</td><td>4/17/2016</td><td> 9705</td><td>6.48</td><td>6.48</td><td>0</td><td>3.19</td><td>0.78</td><td>2.51</td><td>0</td><td>38</td><td>20</td><td>164</td><td> 539</td><td>1728</td></tr>\n",
       "</tbody>\n",
       "</table>\n"
      ],
      "text/latex": [
       "A tibble: 6 × 15\n",
       "\\begin{tabular}{lllllllllllllll}\n",
       " Id & ActivityDate & TotalSteps & TotalDistance & TrackerDistance & LoggedActivitiesDistance & VeryActiveDistance & ModeratelyActiveDistance & LightActiveDistance & SedentaryActiveDistance & VeryActiveMinutes & FairlyActiveMinutes & LightlyActiveMinutes & SedentaryMinutes & Calories\\\\\n",
       " <dbl> & <chr> & <dbl> & <dbl> & <dbl> & <dbl> & <dbl> & <dbl> & <dbl> & <dbl> & <dbl> & <dbl> & <dbl> & <dbl> & <dbl>\\\\\n",
       "\\hline\n",
       "\t 1503960366 & 4/12/2016 & 13162 & 8.50 & 8.50 & 0 & 1.88 & 0.55 & 6.06 & 0 & 25 & 13 & 328 &  728 & 1985\\\\\n",
       "\t 1503960366 & 4/13/2016 & 10735 & 6.97 & 6.97 & 0 & 1.57 & 0.69 & 4.71 & 0 & 21 & 19 & 217 &  776 & 1797\\\\\n",
       "\t 1503960366 & 4/14/2016 & 10460 & 6.74 & 6.74 & 0 & 2.44 & 0.40 & 3.91 & 0 & 30 & 11 & 181 & 1218 & 1776\\\\\n",
       "\t 1503960366 & 4/15/2016 &  9762 & 6.28 & 6.28 & 0 & 2.14 & 1.26 & 2.83 & 0 & 29 & 34 & 209 &  726 & 1745\\\\\n",
       "\t 1503960366 & 4/16/2016 & 12669 & 8.16 & 8.16 & 0 & 2.71 & 0.41 & 5.04 & 0 & 36 & 10 & 221 &  773 & 1863\\\\\n",
       "\t 1503960366 & 4/17/2016 &  9705 & 6.48 & 6.48 & 0 & 3.19 & 0.78 & 2.51 & 0 & 38 & 20 & 164 &  539 & 1728\\\\\n",
       "\\end{tabular}\n"
      ],
      "text/markdown": [
       "\n",
       "A tibble: 6 × 15\n",
       "\n",
       "| Id &lt;dbl&gt; | ActivityDate &lt;chr&gt; | TotalSteps &lt;dbl&gt; | TotalDistance &lt;dbl&gt; | TrackerDistance &lt;dbl&gt; | LoggedActivitiesDistance &lt;dbl&gt; | VeryActiveDistance &lt;dbl&gt; | ModeratelyActiveDistance &lt;dbl&gt; | LightActiveDistance &lt;dbl&gt; | SedentaryActiveDistance &lt;dbl&gt; | VeryActiveMinutes &lt;dbl&gt; | FairlyActiveMinutes &lt;dbl&gt; | LightlyActiveMinutes &lt;dbl&gt; | SedentaryMinutes &lt;dbl&gt; | Calories &lt;dbl&gt; |\n",
       "|---|---|---|---|---|---|---|---|---|---|---|---|---|---|---|\n",
       "| 1503960366 | 4/12/2016 | 13162 | 8.50 | 8.50 | 0 | 1.88 | 0.55 | 6.06 | 0 | 25 | 13 | 328 |  728 | 1985 |\n",
       "| 1503960366 | 4/13/2016 | 10735 | 6.97 | 6.97 | 0 | 1.57 | 0.69 | 4.71 | 0 | 21 | 19 | 217 |  776 | 1797 |\n",
       "| 1503960366 | 4/14/2016 | 10460 | 6.74 | 6.74 | 0 | 2.44 | 0.40 | 3.91 | 0 | 30 | 11 | 181 | 1218 | 1776 |\n",
       "| 1503960366 | 4/15/2016 |  9762 | 6.28 | 6.28 | 0 | 2.14 | 1.26 | 2.83 | 0 | 29 | 34 | 209 |  726 | 1745 |\n",
       "| 1503960366 | 4/16/2016 | 12669 | 8.16 | 8.16 | 0 | 2.71 | 0.41 | 5.04 | 0 | 36 | 10 | 221 |  773 | 1863 |\n",
       "| 1503960366 | 4/17/2016 |  9705 | 6.48 | 6.48 | 0 | 3.19 | 0.78 | 2.51 | 0 | 38 | 20 | 164 |  539 | 1728 |\n",
       "\n"
      ],
      "text/plain": [
       "  Id         ActivityDate TotalSteps TotalDistance TrackerDistance\n",
       "1 1503960366 4/12/2016    13162      8.50          8.50           \n",
       "2 1503960366 4/13/2016    10735      6.97          6.97           \n",
       "3 1503960366 4/14/2016    10460      6.74          6.74           \n",
       "4 1503960366 4/15/2016     9762      6.28          6.28           \n",
       "5 1503960366 4/16/2016    12669      8.16          8.16           \n",
       "6 1503960366 4/17/2016     9705      6.48          6.48           \n",
       "  LoggedActivitiesDistance VeryActiveDistance ModeratelyActiveDistance\n",
       "1 0                        1.88               0.55                    \n",
       "2 0                        1.57               0.69                    \n",
       "3 0                        2.44               0.40                    \n",
       "4 0                        2.14               1.26                    \n",
       "5 0                        2.71               0.41                    \n",
       "6 0                        3.19               0.78                    \n",
       "  LightActiveDistance SedentaryActiveDistance VeryActiveMinutes\n",
       "1 6.06                0                       25               \n",
       "2 4.71                0                       21               \n",
       "3 3.91                0                       30               \n",
       "4 2.83                0                       29               \n",
       "5 5.04                0                       36               \n",
       "6 2.51                0                       38               \n",
       "  FairlyActiveMinutes LightlyActiveMinutes SedentaryMinutes Calories\n",
       "1 13                  328                   728             1985    \n",
       "2 19                  217                   776             1797    \n",
       "3 11                  181                  1218             1776    \n",
       "4 34                  209                   726             1745    \n",
       "5 10                  221                   773             1863    \n",
       "6 20                  164                   539             1728    "
      ]
     },
     "metadata": {},
     "output_type": "display_data"
    }
   ],
   "source": [
    "head(daily_act_df)"
   ]
  },
  {
   "cell_type": "code",
   "execution_count": 5,
   "id": "71cd8ff5",
   "metadata": {},
   "outputs": [
    {
     "data": {
      "text/html": [
       "<table class=\"dataframe\">\n",
       "<caption>A data.frame: 1 × 1</caption>\n",
       "<thead>\n",
       "\t<tr><th scope=col>Distinct_users</th></tr>\n",
       "\t<tr><th scope=col>&lt;int&gt;</th></tr>\n",
       "</thead>\n",
       "<tbody>\n",
       "\t<tr><td>33</td></tr>\n",
       "</tbody>\n",
       "</table>\n"
      ],
      "text/latex": [
       "A data.frame: 1 × 1\n",
       "\\begin{tabular}{l}\n",
       " Distinct\\_users\\\\\n",
       " <int>\\\\\n",
       "\\hline\n",
       "\t 33\\\\\n",
       "\\end{tabular}\n"
      ],
      "text/markdown": [
       "\n",
       "A data.frame: 1 × 1\n",
       "\n",
       "| Distinct_users &lt;int&gt; |\n",
       "|---|\n",
       "| 33 |\n",
       "\n"
      ],
      "text/plain": [
       "  Distinct_users\n",
       "1 33            "
      ]
     },
     "metadata": {},
     "output_type": "display_data"
    }
   ],
   "source": [
    "# Based on the file given, we know that we have a total of 33 users' data in our dataset. \n",
    "# Now we set out to find how many people are doing intense workouts by using sqldf.\n",
    "\n",
    "sqldf(\"select count(distinct Id) as Distinct_users from daily_act_df where VeryActiveDistance > 0\")"
   ]
  },
  {
   "cell_type": "code",
   "execution_count": 6,
   "id": "311f28aa",
   "metadata": {},
   "outputs": [
    {
     "data": {
      "text/html": [
       "<table class=\"dataframe\">\n",
       "<caption>A data.frame: 1 × 5</caption>\n",
       "<thead>\n",
       "\t<tr><th scope=col>Avg_steps</th><th scope=col>Avg_Distance</th><th scope=col>Avg_Sprint</th><th scope=col>Avg_Calories</th><th scope=col>sprint_to_distance_ratio</th></tr>\n",
       "\t<tr><th scope=col>&lt;dbl&gt;</th><th scope=col>&lt;dbl&gt;</th><th scope=col>&lt;dbl&gt;</th><th scope=col>&lt;dbl&gt;</th><th scope=col>&lt;dbl&gt;</th></tr>\n",
       "</thead>\n",
       "<tbody>\n",
       "\t<tr><td>7638</td><td>5.5</td><td>1.5</td><td>2303.61</td><td>0.27</td></tr>\n",
       "</tbody>\n",
       "</table>\n"
      ],
      "text/latex": [
       "A data.frame: 1 × 5\n",
       "\\begin{tabular}{lllll}\n",
       " Avg\\_steps & Avg\\_Distance & Avg\\_Sprint & Avg\\_Calories & sprint\\_to\\_distance\\_ratio\\\\\n",
       " <dbl> & <dbl> & <dbl> & <dbl> & <dbl>\\\\\n",
       "\\hline\n",
       "\t 7638 & 5.5 & 1.5 & 2303.61 & 0.27\\\\\n",
       "\\end{tabular}\n"
      ],
      "text/markdown": [
       "\n",
       "A data.frame: 1 × 5\n",
       "\n",
       "| Avg_steps &lt;dbl&gt; | Avg_Distance &lt;dbl&gt; | Avg_Sprint &lt;dbl&gt; | Avg_Calories &lt;dbl&gt; | sprint_to_distance_ratio &lt;dbl&gt; |\n",
       "|---|---|---|---|---|\n",
       "| 7638 | 5.5 | 1.5 | 2303.61 | 0.27 |\n",
       "\n"
      ],
      "text/plain": [
       "  Avg_steps Avg_Distance Avg_Sprint Avg_Calories sprint_to_distance_ratio\n",
       "1 7638      5.5          1.5        2303.61      0.27                    "
      ]
     },
     "metadata": {},
     "output_type": "display_data"
    }
   ],
   "source": [
    "# Based on above data, we find that all 33 users are doing sprints or high- intensity workouts\n",
    "\n",
    "# Let us calculate the average values\n",
    "\n",
    "\n",
    "Avg_daily_df <- sqldf(\"select round(avg(TotalSteps),0) as Avg_steps, round(avg(TotalDistance),1) as Avg_Distance,\n",
    "    round(avg(VeryActiveDistance),1) as Avg_Sprint ,\n",
    "     round(avg(Calories),2) as Avg_Calories from daily_act_df\")\n",
    "\n",
    "Avg_daily_df <- sqldf(\"select *, round(Avg_Sprint/ Avg_distance,2) as sprint_to_distance_ratio\n",
    "    from Avg_daily_df\")\n",
    "\n",
    "Avg_daily_df"
   ]
  },
  {
   "cell_type": "markdown",
   "id": "f760ef8b",
   "metadata": {},
   "source": [
    "**Summary**\n",
    "\n",
    " - From the above summary of daily activity, we understand that **Avg steps taken were 7638** wherease the recommended steps are 10,000 steps.\n",
    " - All 33 people did intense workout and it was **27%** out of total workout. "
   ]
  },
  {
   "cell_type": "code",
   "execution_count": 7,
   "id": "d0b0c31d",
   "metadata": {},
   "outputs": [
    {
     "data": {
      "text/html": [
       "<table class=\"dataframe\">\n",
       "<caption>A tibble: 6 × 5</caption>\n",
       "<thead>\n",
       "\t<tr><th scope=col>Id</th><th scope=col>mean_Very_Active_KM</th><th scope=col>mean_Total_KM</th><th scope=col>mean_calorie</th><th scope=col>Active_total_ratio</th></tr>\n",
       "\t<tr><th scope=col>&lt;dbl&gt;</th><th scope=col>&lt;dbl&gt;</th><th scope=col>&lt;dbl&gt;</th><th scope=col>&lt;dbl&gt;</th><th scope=col>&lt;dbl&gt;</th></tr>\n",
       "</thead>\n",
       "<tbody>\n",
       "\t<tr><td>1844505072</td><td>0.0</td><td>1.7</td><td>1573.48</td><td>0.00</td></tr>\n",
       "\t<tr><td>2026352035</td><td>0.0</td><td>3.5</td><td>1540.65</td><td>0.00</td></tr>\n",
       "\t<tr><td>8792009665</td><td>0.0</td><td>1.2</td><td>1962.31</td><td>0.00</td></tr>\n",
       "\t<tr><td>6117666160</td><td>0.1</td><td>5.3</td><td>2261.14</td><td>0.02</td></tr>\n",
       "\t<tr><td>6290855005</td><td>0.1</td><td>4.3</td><td>2599.62</td><td>0.02</td></tr>\n",
       "\t<tr><td>2320127002</td><td>0.1</td><td>3.2</td><td>1724.16</td><td>0.03</td></tr>\n",
       "</tbody>\n",
       "</table>\n"
      ],
      "text/latex": [
       "A tibble: 6 × 5\n",
       "\\begin{tabular}{lllll}\n",
       " Id & mean\\_Very\\_Active\\_KM & mean\\_Total\\_KM & mean\\_calorie & Active\\_total\\_ratio\\\\\n",
       " <dbl> & <dbl> & <dbl> & <dbl> & <dbl>\\\\\n",
       "\\hline\n",
       "\t 1844505072 & 0.0 & 1.7 & 1573.48 & 0.00\\\\\n",
       "\t 2026352035 & 0.0 & 3.5 & 1540.65 & 0.00\\\\\n",
       "\t 8792009665 & 0.0 & 1.2 & 1962.31 & 0.00\\\\\n",
       "\t 6117666160 & 0.1 & 5.3 & 2261.14 & 0.02\\\\\n",
       "\t 6290855005 & 0.1 & 4.3 & 2599.62 & 0.02\\\\\n",
       "\t 2320127002 & 0.1 & 3.2 & 1724.16 & 0.03\\\\\n",
       "\\end{tabular}\n"
      ],
      "text/markdown": [
       "\n",
       "A tibble: 6 × 5\n",
       "\n",
       "| Id &lt;dbl&gt; | mean_Very_Active_KM &lt;dbl&gt; | mean_Total_KM &lt;dbl&gt; | mean_calorie &lt;dbl&gt; | Active_total_ratio &lt;dbl&gt; |\n",
       "|---|---|---|---|---|\n",
       "| 1844505072 | 0.0 | 1.7 | 1573.48 | 0.00 |\n",
       "| 2026352035 | 0.0 | 3.5 | 1540.65 | 0.00 |\n",
       "| 8792009665 | 0.0 | 1.2 | 1962.31 | 0.00 |\n",
       "| 6117666160 | 0.1 | 5.3 | 2261.14 | 0.02 |\n",
       "| 6290855005 | 0.1 | 4.3 | 2599.62 | 0.02 |\n",
       "| 2320127002 | 0.1 | 3.2 | 1724.16 | 0.03 |\n",
       "\n"
      ],
      "text/plain": [
       "  Id         mean_Very_Active_KM mean_Total_KM mean_calorie Active_total_ratio\n",
       "1 1844505072 0.0                 1.7           1573.48      0.00              \n",
       "2 2026352035 0.0                 3.5           1540.65      0.00              \n",
       "3 8792009665 0.0                 1.2           1962.31      0.00              \n",
       "4 6117666160 0.1                 5.3           2261.14      0.02              \n",
       "5 6290855005 0.1                 4.3           2599.62      0.02              \n",
       "6 2320127002 0.1                 3.2           1724.16      0.03              "
      ]
     },
     "metadata": {},
     "output_type": "display_data"
    }
   ],
   "source": [
    "# Find relationship between very active distance and calorie burnt\n",
    "\n",
    "intensity_cal_corr <- daily_act_df  %>% select(Id, VeryActiveDistance, TotalDistance, Calories)\n",
    "\n",
    "#Find average of Total KM, Very intense workout distance and calories for all 33 users\n",
    "intensity_cal_corr <- intensity_cal_corr  %>%  group_by(Id)  %>% summarise(mean_Very_Active_KM= round(mean(VeryActiveDistance),1), \n",
    "                                                     mean_Total_KM= round(mean(TotalDistance),1),\n",
    "                                                     mean_calorie=round(mean(Calories),2))\n",
    "\n",
    "#Add ratio of the intense workout to total workout and graph the relationship between the ratio and calories burnt for all users\n",
    "intensity_cal_corr <- intensity_cal_corr  %>% mutate(Active_total_ratio= round(mean_Very_Active_KM/mean_Total_KM,2))\n",
    "intensity_cal_corr <- intensity_cal_corr %>% arrange(Active_total_ratio)\n",
    "head(intensity_cal_corr)\n"
   ]
  },
  {
   "cell_type": "markdown",
   "id": "e43861f0",
   "metadata": {},
   "source": [
    "## 4 Daily sleep analysis\n",
    "\n",
    "Let us get the daily sleep data and store it in *sleep_df* dataframe. Next, we will check the average sleep summary to see whether they follow the **CDC recommendation of 6-7 hours/day.**"
   ]
  },
  {
   "cell_type": "code",
   "execution_count": 8,
   "id": "6aedba5e",
   "metadata": {},
   "outputs": [
    {
     "name": "stderr",
     "output_type": "stream",
     "text": [
      "\u001b[1mRows: \u001b[22m\u001b[34m413\u001b[39m \u001b[1mColumns: \u001b[22m\u001b[34m5\u001b[39m\n",
      "\n",
      "\u001b[36m--\u001b[39m \u001b[1mColumn specification\u001b[22m \u001b[36m------------------------------------------------------------------------------------------------\u001b[39m\n",
      "\u001b[1mDelimiter:\u001b[22m \",\"\n",
      "\u001b[31mchr\u001b[39m (1): SleepDay\n",
      "\u001b[32mdbl\u001b[39m (4): Id, TotalSleepRecords, TotalMinutesAsleep, TotalTimeInBed\n",
      "\n",
      "\n",
      "\u001b[36mi\u001b[39m Use \u001b[30m\u001b[47m\u001b[30m\u001b[47m`spec()`\u001b[47m\u001b[30m\u001b[49m\u001b[39m to retrieve the full column specification for this data.\n",
      "\u001b[36mi\u001b[39m Specify the column types or set \u001b[30m\u001b[47m\u001b[30m\u001b[47m`show_col_types = FALSE`\u001b[47m\u001b[30m\u001b[49m\u001b[39m to quiet this message.\n",
      "\n"
     ]
    },
    {
     "data": {
      "text/html": [
       "<table class=\"dataframe\">\n",
       "<caption>A tibble: 6 × 5</caption>\n",
       "<thead>\n",
       "\t<tr><th scope=col>Id</th><th scope=col>SleepDay</th><th scope=col>TotalSleepRecords</th><th scope=col>TotalMinutesAsleep</th><th scope=col>TotalTimeInBed</th></tr>\n",
       "\t<tr><th scope=col>&lt;dbl&gt;</th><th scope=col>&lt;chr&gt;</th><th scope=col>&lt;dbl&gt;</th><th scope=col>&lt;dbl&gt;</th><th scope=col>&lt;dbl&gt;</th></tr>\n",
       "</thead>\n",
       "<tbody>\n",
       "\t<tr><td>1503960366</td><td>4/12/2016 12:00:00 AM</td><td>1</td><td>327</td><td>346</td></tr>\n",
       "\t<tr><td>1503960366</td><td>4/13/2016 12:00:00 AM</td><td>2</td><td>384</td><td>407</td></tr>\n",
       "\t<tr><td>1503960366</td><td>4/15/2016 12:00:00 AM</td><td>1</td><td>412</td><td>442</td></tr>\n",
       "\t<tr><td>1503960366</td><td>4/16/2016 12:00:00 AM</td><td>2</td><td>340</td><td>367</td></tr>\n",
       "\t<tr><td>1503960366</td><td>4/17/2016 12:00:00 AM</td><td>1</td><td>700</td><td>712</td></tr>\n",
       "\t<tr><td>1503960366</td><td>4/19/2016 12:00:00 AM</td><td>1</td><td>304</td><td>320</td></tr>\n",
       "</tbody>\n",
       "</table>\n"
      ],
      "text/latex": [
       "A tibble: 6 × 5\n",
       "\\begin{tabular}{lllll}\n",
       " Id & SleepDay & TotalSleepRecords & TotalMinutesAsleep & TotalTimeInBed\\\\\n",
       " <dbl> & <chr> & <dbl> & <dbl> & <dbl>\\\\\n",
       "\\hline\n",
       "\t 1503960366 & 4/12/2016 12:00:00 AM & 1 & 327 & 346\\\\\n",
       "\t 1503960366 & 4/13/2016 12:00:00 AM & 2 & 384 & 407\\\\\n",
       "\t 1503960366 & 4/15/2016 12:00:00 AM & 1 & 412 & 442\\\\\n",
       "\t 1503960366 & 4/16/2016 12:00:00 AM & 2 & 340 & 367\\\\\n",
       "\t 1503960366 & 4/17/2016 12:00:00 AM & 1 & 700 & 712\\\\\n",
       "\t 1503960366 & 4/19/2016 12:00:00 AM & 1 & 304 & 320\\\\\n",
       "\\end{tabular}\n"
      ],
      "text/markdown": [
       "\n",
       "A tibble: 6 × 5\n",
       "\n",
       "| Id &lt;dbl&gt; | SleepDay &lt;chr&gt; | TotalSleepRecords &lt;dbl&gt; | TotalMinutesAsleep &lt;dbl&gt; | TotalTimeInBed &lt;dbl&gt; |\n",
       "|---|---|---|---|---|\n",
       "| 1503960366 | 4/12/2016 12:00:00 AM | 1 | 327 | 346 |\n",
       "| 1503960366 | 4/13/2016 12:00:00 AM | 2 | 384 | 407 |\n",
       "| 1503960366 | 4/15/2016 12:00:00 AM | 1 | 412 | 442 |\n",
       "| 1503960366 | 4/16/2016 12:00:00 AM | 2 | 340 | 367 |\n",
       "| 1503960366 | 4/17/2016 12:00:00 AM | 1 | 700 | 712 |\n",
       "| 1503960366 | 4/19/2016 12:00:00 AM | 1 | 304 | 320 |\n",
       "\n"
      ],
      "text/plain": [
       "  Id         SleepDay              TotalSleepRecords TotalMinutesAsleep\n",
       "1 1503960366 4/12/2016 12:00:00 AM 1                 327               \n",
       "2 1503960366 4/13/2016 12:00:00 AM 2                 384               \n",
       "3 1503960366 4/15/2016 12:00:00 AM 1                 412               \n",
       "4 1503960366 4/16/2016 12:00:00 AM 2                 340               \n",
       "5 1503960366 4/17/2016 12:00:00 AM 1                 700               \n",
       "6 1503960366 4/19/2016 12:00:00 AM 1                 304               \n",
       "  TotalTimeInBed\n",
       "1 346           \n",
       "2 407           \n",
       "3 442           \n",
       "4 367           \n",
       "5 712           \n",
       "6 320           "
      ]
     },
     "metadata": {},
     "output_type": "display_data"
    }
   ],
   "source": [
    "sleep_df <- read_csv(paste0(wd,\"/sleepDay_merged.csv\"))\n",
    "head(sleep_df)"
   ]
  },
  {
   "cell_type": "code",
   "execution_count": 9,
   "id": "d8ae4068",
   "metadata": {},
   "outputs": [
    {
     "data": {
      "text/html": [
       "<table class=\"dataframe\">\n",
       "<caption>A data.frame: 1 × 1</caption>\n",
       "<thead>\n",
       "\t<tr><th scope=col>Sleep_hours</th></tr>\n",
       "\t<tr><th scope=col>&lt;dbl&gt;</th></tr>\n",
       "</thead>\n",
       "<tbody>\n",
       "\t<tr><td>6.98</td></tr>\n",
       "</tbody>\n",
       "</table>\n"
      ],
      "text/latex": [
       "A data.frame: 1 × 1\n",
       "\\begin{tabular}{l}\n",
       " Sleep\\_hours\\\\\n",
       " <dbl>\\\\\n",
       "\\hline\n",
       "\t 6.98\\\\\n",
       "\\end{tabular}\n"
      ],
      "text/markdown": [
       "\n",
       "A data.frame: 1 × 1\n",
       "\n",
       "| Sleep_hours &lt;dbl&gt; |\n",
       "|---|\n",
       "| 6.98 |\n",
       "\n"
      ],
      "text/plain": [
       "  Sleep_hours\n",
       "1 6.98       "
      ]
     },
     "metadata": {},
     "output_type": "display_data"
    }
   ],
   "source": [
    "sleep_summary <- sqldf(\"select round(avg(TotalMinutesAsleep),0) as Avg_min_slept\n",
    "      from sleep_df\")\n",
    "\n",
    "sqldf(\"select round(Avg_min_slept/60,2) as Sleep_hours from sleep_summary\")\n",
    "\n",
    "# From the table, we see that the sleep average is as per recommendation"
   ]
  },
  {
   "cell_type": "markdown",
   "id": "36d80a91",
   "metadata": {},
   "source": [
    "## 5 Finding when the workouts are done by individuals on average"
   ]
  },
  {
   "cell_type": "code",
   "execution_count": 10,
   "id": "2f5ff75f",
   "metadata": {},
   "outputs": [
    {
     "name": "stderr",
     "output_type": "stream",
     "text": [
      "\u001b[1mRows: \u001b[22m\u001b[34m22099\u001b[39m \u001b[1mColumns: \u001b[22m\u001b[34m3\u001b[39m\n",
      "\n",
      "\u001b[36m--\u001b[39m \u001b[1mColumn specification\u001b[22m \u001b[36m------------------------------------------------------------------------------------------------\u001b[39m\n",
      "\u001b[1mDelimiter:\u001b[22m \",\"\n",
      "\u001b[31mchr\u001b[39m (1): ActivityHour\n",
      "\u001b[32mdbl\u001b[39m (2): Id, StepTotal\n",
      "\n",
      "\n",
      "\u001b[36mi\u001b[39m Use \u001b[30m\u001b[47m\u001b[30m\u001b[47m`spec()`\u001b[47m\u001b[30m\u001b[49m\u001b[39m to retrieve the full column specification for this data.\n",
      "\u001b[36mi\u001b[39m Specify the column types or set \u001b[30m\u001b[47m\u001b[30m\u001b[47m`show_col_types = FALSE`\u001b[47m\u001b[30m\u001b[49m\u001b[39m to quiet this message.\n",
      "\n"
     ]
    },
    {
     "data": {
      "text/html": [
       "<table class=\"dataframe\">\n",
       "<caption>A tibble: 6 × 3</caption>\n",
       "<thead>\n",
       "\t<tr><th scope=col>Id</th><th scope=col>ActivityHour</th><th scope=col>StepTotal</th></tr>\n",
       "\t<tr><th scope=col>&lt;dbl&gt;</th><th scope=col>&lt;chr&gt;</th><th scope=col>&lt;dbl&gt;</th></tr>\n",
       "</thead>\n",
       "<tbody>\n",
       "\t<tr><td>1503960366</td><td>4/12/2016 12:00:00 AM</td><td>373</td></tr>\n",
       "\t<tr><td>1503960366</td><td>4/12/2016 1:00:00 AM </td><td>160</td></tr>\n",
       "\t<tr><td>1503960366</td><td>4/12/2016 2:00:00 AM </td><td>151</td></tr>\n",
       "\t<tr><td>1503960366</td><td>4/12/2016 3:00:00 AM </td><td>  0</td></tr>\n",
       "\t<tr><td>1503960366</td><td>4/12/2016 4:00:00 AM </td><td>  0</td></tr>\n",
       "\t<tr><td>1503960366</td><td>4/12/2016 5:00:00 AM </td><td>  0</td></tr>\n",
       "</tbody>\n",
       "</table>\n"
      ],
      "text/latex": [
       "A tibble: 6 × 3\n",
       "\\begin{tabular}{lll}\n",
       " Id & ActivityHour & StepTotal\\\\\n",
       " <dbl> & <chr> & <dbl>\\\\\n",
       "\\hline\n",
       "\t 1503960366 & 4/12/2016 12:00:00 AM & 373\\\\\n",
       "\t 1503960366 & 4/12/2016 1:00:00 AM  & 160\\\\\n",
       "\t 1503960366 & 4/12/2016 2:00:00 AM  & 151\\\\\n",
       "\t 1503960366 & 4/12/2016 3:00:00 AM  &   0\\\\\n",
       "\t 1503960366 & 4/12/2016 4:00:00 AM  &   0\\\\\n",
       "\t 1503960366 & 4/12/2016 5:00:00 AM  &   0\\\\\n",
       "\\end{tabular}\n"
      ],
      "text/markdown": [
       "\n",
       "A tibble: 6 × 3\n",
       "\n",
       "| Id &lt;dbl&gt; | ActivityHour &lt;chr&gt; | StepTotal &lt;dbl&gt; |\n",
       "|---|---|---|\n",
       "| 1503960366 | 4/12/2016 12:00:00 AM | 373 |\n",
       "| 1503960366 | 4/12/2016 1:00:00 AM  | 160 |\n",
       "| 1503960366 | 4/12/2016 2:00:00 AM  | 151 |\n",
       "| 1503960366 | 4/12/2016 3:00:00 AM  |   0 |\n",
       "| 1503960366 | 4/12/2016 4:00:00 AM  |   0 |\n",
       "| 1503960366 | 4/12/2016 5:00:00 AM  |   0 |\n",
       "\n"
      ],
      "text/plain": [
       "  Id         ActivityHour          StepTotal\n",
       "1 1503960366 4/12/2016 12:00:00 AM 373      \n",
       "2 1503960366 4/12/2016 1:00:00 AM  160      \n",
       "3 1503960366 4/12/2016 2:00:00 AM  151      \n",
       "4 1503960366 4/12/2016 3:00:00 AM    0      \n",
       "5 1503960366 4/12/2016 4:00:00 AM    0      \n",
       "6 1503960366 4/12/2016 5:00:00 AM    0      "
      ]
     },
     "metadata": {},
     "output_type": "display_data"
    }
   ],
   "source": [
    "hourly_steps_df <- read_csv(paste0(wd,\"/hourlySteps_merged.csv\"))\n",
    "head(hourly_steps_df)"
   ]
  },
  {
   "cell_type": "code",
   "execution_count": 11,
   "id": "217bdb24",
   "metadata": {},
   "outputs": [
    {
     "data": {
      "text/html": [
       "<table class=\"dataframe\">\n",
       "<caption>A tibble: 6 × 3</caption>\n",
       "<thead>\n",
       "\t<tr><th scope=col>Id</th><th scope=col>Time_new</th><th scope=col>StepTotal</th></tr>\n",
       "\t<tr><th scope=col>&lt;dbl&gt;</th><th scope=col>&lt;chr&gt;</th><th scope=col>&lt;dbl&gt;</th></tr>\n",
       "</thead>\n",
       "<tbody>\n",
       "\t<tr><td>1503960366</td><td>12 AM</td><td>373</td></tr>\n",
       "\t<tr><td>1503960366</td><td>1 AM </td><td>160</td></tr>\n",
       "\t<tr><td>1503960366</td><td>2 AM </td><td>151</td></tr>\n",
       "\t<tr><td>1503960366</td><td>3 AM </td><td>  0</td></tr>\n",
       "\t<tr><td>1503960366</td><td>4 AM </td><td>  0</td></tr>\n",
       "\t<tr><td>1503960366</td><td>5 AM </td><td>  0</td></tr>\n",
       "</tbody>\n",
       "</table>\n"
      ],
      "text/latex": [
       "A tibble: 6 × 3\n",
       "\\begin{tabular}{lll}\n",
       " Id & Time\\_new & StepTotal\\\\\n",
       " <dbl> & <chr> & <dbl>\\\\\n",
       "\\hline\n",
       "\t 1503960366 & 12 AM & 373\\\\\n",
       "\t 1503960366 & 1 AM  & 160\\\\\n",
       "\t 1503960366 & 2 AM  & 151\\\\\n",
       "\t 1503960366 & 3 AM  &   0\\\\\n",
       "\t 1503960366 & 4 AM  &   0\\\\\n",
       "\t 1503960366 & 5 AM  &   0\\\\\n",
       "\\end{tabular}\n"
      ],
      "text/markdown": [
       "\n",
       "A tibble: 6 × 3\n",
       "\n",
       "| Id &lt;dbl&gt; | Time_new &lt;chr&gt; | StepTotal &lt;dbl&gt; |\n",
       "|---|---|---|\n",
       "| 1503960366 | 12 AM | 373 |\n",
       "| 1503960366 | 1 AM  | 160 |\n",
       "| 1503960366 | 2 AM  | 151 |\n",
       "| 1503960366 | 3 AM  |   0 |\n",
       "| 1503960366 | 4 AM  |   0 |\n",
       "| 1503960366 | 5 AM  |   0 |\n",
       "\n"
      ],
      "text/plain": [
       "  Id         Time_new StepTotal\n",
       "1 1503960366 12 AM    373      \n",
       "2 1503960366 1 AM     160      \n",
       "3 1503960366 2 AM     151      \n",
       "4 1503960366 3 AM       0      \n",
       "5 1503960366 4 AM       0      \n",
       "6 1503960366 5 AM       0      "
      ]
     },
     "metadata": {},
     "output_type": "display_data"
    }
   ],
   "source": [
    "#Get only the time of hours in Number using SEPARATE function\n",
    "corrected_hourly_steps <- hourly_steps_df  %>% separate(\"ActivityHour\", into= c(\"date\", \"hours\", \"minutes\", \"seconds\", \"AM_PM\"),\n",
    "                                                        sep= \"([:, ])\")\n",
    "corrected_hourly_steps <- corrected_hourly_steps  %>% unite(\"Time_new\", c(\"hours\", \"AM_PM\"), sep= \" \")\n",
    "\n",
    "corrected_hourly_steps <- subset(corrected_hourly_steps, select= c(\"Id\", \"Time_new\", \"StepTotal\"))\n",
    "\n",
    "head(corrected_hourly_steps)"
   ]
  },
  {
   "cell_type": "code",
   "execution_count": 12,
   "id": "3f364afb",
   "metadata": {},
   "outputs": [
    {
     "data": {
      "text/html": [
       "<table class=\"dataframe\">\n",
       "<caption>A data.frame: 6 × 2</caption>\n",
       "<thead>\n",
       "\t<tr><th></th><th scope=col>Time_new</th><th scope=col>ref_hr</th></tr>\n",
       "\t<tr><th></th><th scope=col>&lt;chr&gt;</th><th scope=col>&lt;chr&gt;</th></tr>\n",
       "</thead>\n",
       "<tbody>\n",
       "\t<tr><th scope=row>1</th><td>12 AM</td><td>00:00</td></tr>\n",
       "\t<tr><th scope=row>2</th><td>1 AM </td><td>01:00</td></tr>\n",
       "\t<tr><th scope=row>3</th><td>2 AM </td><td>02:00</td></tr>\n",
       "\t<tr><th scope=row>4</th><td>3 AM </td><td>03:00</td></tr>\n",
       "\t<tr><th scope=row>5</th><td>4 AM </td><td>04:00</td></tr>\n",
       "\t<tr><th scope=row>6</th><td>5 AM </td><td>05:00</td></tr>\n",
       "</tbody>\n",
       "</table>\n"
      ],
      "text/latex": [
       "A data.frame: 6 × 2\n",
       "\\begin{tabular}{r|ll}\n",
       "  & Time\\_new & ref\\_hr\\\\\n",
       "  & <chr> & <chr>\\\\\n",
       "\\hline\n",
       "\t1 & 12 AM & 00:00\\\\\n",
       "\t2 & 1 AM  & 01:00\\\\\n",
       "\t3 & 2 AM  & 02:00\\\\\n",
       "\t4 & 3 AM  & 03:00\\\\\n",
       "\t5 & 4 AM  & 04:00\\\\\n",
       "\t6 & 5 AM  & 05:00\\\\\n",
       "\\end{tabular}\n"
      ],
      "text/markdown": [
       "\n",
       "A data.frame: 6 × 2\n",
       "\n",
       "| <!--/--> | Time_new &lt;chr&gt; | ref_hr &lt;chr&gt; |\n",
       "|---|---|---|\n",
       "| 1 | 12 AM | 00:00 |\n",
       "| 2 | 1 AM  | 01:00 |\n",
       "| 3 | 2 AM  | 02:00 |\n",
       "| 4 | 3 AM  | 03:00 |\n",
       "| 5 | 4 AM  | 04:00 |\n",
       "| 6 | 5 AM  | 05:00 |\n",
       "\n"
      ],
      "text/plain": [
       "  Time_new ref_hr\n",
       "1 12 AM    00:00 \n",
       "2 1 AM     01:00 \n",
       "3 2 AM     02:00 \n",
       "4 3 AM     03:00 \n",
       "5 4 AM     04:00 \n",
       "6 5 AM     05:00 "
      ]
     },
     "metadata": {},
     "output_type": "display_data"
    }
   ],
   "source": [
    "# Create reference ID for time plot\n",
    "\n",
    "hour_ref_df <- sqldf(\"SELECT distinct Time_new FROM corrected_hourly_steps\")\n",
    "\n",
    "ref= c(\"00:00\", \"01:00\", \"02:00\", \"03:00\", \"04:00\", \"05:00\", \"06:00\", \n",
    "\"07:00\", \"08:00\", \"09:00\", \"10:00\", \"11:00\", \"12:00\", \"13:00\", \"14:00\", \"15:00\", \"16:00\", \"17:00\", \"18:00\", \"19:00\",\n",
    "                                       \"20:00\", \"21:00\", \"22:00\", \"23:00\")\n",
    "hour_ref_df <- hour_ref_df  %>% mutate(ref_hr= ref)\n",
    "head(hour_ref_df)"
   ]
  },
  {
   "cell_type": "code",
   "execution_count": 13,
   "id": "ef203c71",
   "metadata": {
    "scrolled": true
   },
   "outputs": [
    {
     "data": {
      "text/html": [
       "<table class=\"dataframe\">\n",
       "<caption>A data.frame: 6 × 4</caption>\n",
       "<thead>\n",
       "\t<tr><th></th><th scope=col>ref_hr</th><th scope=col>Time_new</th><th scope=col>avg_steps</th><th scope=col>peak</th></tr>\n",
       "\t<tr><th></th><th scope=col>&lt;chr&gt;</th><th scope=col>&lt;chr&gt;</th><th scope=col>&lt;dbl&gt;</th><th scope=col>&lt;chr&gt;</th></tr>\n",
       "</thead>\n",
       "<tbody>\n",
       "\t<tr><th scope=row>1</th><td>00:00</td><td>12 AM</td><td>42</td><td>No</td></tr>\n",
       "\t<tr><th scope=row>2</th><td>01:00</td><td>1 AM </td><td>23</td><td>No</td></tr>\n",
       "\t<tr><th scope=row>3</th><td>02:00</td><td>2 AM </td><td>17</td><td>No</td></tr>\n",
       "\t<tr><th scope=row>4</th><td>03:00</td><td>3 AM </td><td> 6</td><td>No</td></tr>\n",
       "\t<tr><th scope=row>5</th><td>04:00</td><td>4 AM </td><td>13</td><td>No</td></tr>\n",
       "\t<tr><th scope=row>6</th><td>05:00</td><td>5 AM </td><td>44</td><td>No</td></tr>\n",
       "</tbody>\n",
       "</table>\n"
      ],
      "text/latex": [
       "A data.frame: 6 × 4\n",
       "\\begin{tabular}{r|llll}\n",
       "  & ref\\_hr & Time\\_new & avg\\_steps & peak\\\\\n",
       "  & <chr> & <chr> & <dbl> & <chr>\\\\\n",
       "\\hline\n",
       "\t1 & 00:00 & 12 AM & 42 & No\\\\\n",
       "\t2 & 01:00 & 1 AM  & 23 & No\\\\\n",
       "\t3 & 02:00 & 2 AM  & 17 & No\\\\\n",
       "\t4 & 03:00 & 3 AM  &  6 & No\\\\\n",
       "\t5 & 04:00 & 4 AM  & 13 & No\\\\\n",
       "\t6 & 05:00 & 5 AM  & 44 & No\\\\\n",
       "\\end{tabular}\n"
      ],
      "text/markdown": [
       "\n",
       "A data.frame: 6 × 4\n",
       "\n",
       "| <!--/--> | ref_hr &lt;chr&gt; | Time_new &lt;chr&gt; | avg_steps &lt;dbl&gt; | peak &lt;chr&gt; |\n",
       "|---|---|---|---|---|\n",
       "| 1 | 00:00 | 12 AM | 42 | No |\n",
       "| 2 | 01:00 | 1 AM  | 23 | No |\n",
       "| 3 | 02:00 | 2 AM  | 17 | No |\n",
       "| 4 | 03:00 | 3 AM  |  6 | No |\n",
       "| 5 | 04:00 | 4 AM  | 13 | No |\n",
       "| 6 | 05:00 | 5 AM  | 44 | No |\n",
       "\n"
      ],
      "text/plain": [
       "  ref_hr Time_new avg_steps peak\n",
       "1 00:00  12 AM    42        No  \n",
       "2 01:00  1 AM     23        No  \n",
       "3 02:00  2 AM     17        No  \n",
       "4 03:00  3 AM      6        No  \n",
       "5 04:00  4 AM     13        No  \n",
       "6 05:00  5 AM     44        No  "
      ]
     },
     "metadata": {},
     "output_type": "display_data"
    }
   ],
   "source": [
    "# Summarise by time and find the steps taken at each hour\n",
    "\n",
    "summary_hourly_steps <-corrected_hourly_steps  %>% group_by(Time_new)  %>% summarise(avg_steps= round(mean(StepTotal)))\n",
    "\n",
    "# JOIN hour reference and summary table using SQL LEFT JOIN\n",
    "summary_hourly_steps<- sqldf(\"SELECT ref_hr, sum.Time_new, avg_steps FROM summary_hourly_steps as sum \n",
    "LEFT JOIN hour_ref_df as hr_ref ON sum.Time_new= hr_ref.Time_new\")\n",
    "\n",
    "summary_hourly_steps <- summary_hourly_steps  %>% arrange(ref_hr)\n",
    "\n",
    "# Add peak steps for hours having more than 500 steps\n",
    "\n",
    "summary_hourly_steps<- summary_hourly_steps  %>% mutate(peak= ifelse(avg_steps<500, \"No\", \"Yes\"))\n",
    "head(summary_hourly_steps)\n"
   ]
  },
  {
   "cell_type": "code",
   "execution_count": 14,
   "id": "11fe8746",
   "metadata": {},
   "outputs": [
    {
     "data": {
      "image/png": "[encoded data removed]",
      "text/plain": [
       "plot without title"
      ]
     },
     "metadata": {
      "image/png": {
       "height": 360,
       "width": 660
      }
     },
     "output_type": "display_data"
    }
   ],
   "source": [
    "options(repr.plot.width= 11,repr.plot.height= 6) #change plot width and height(VERY IMPORTANT)\n",
    "\n",
    "ggplot(summary_hourly_steps, aes(x= ref_hr, y= avg_steps, fill= peak)) + geom_col() + theme(text = element_text(size=15) ,\n",
    "        axis.text.x = element_text(angle=45)) + labs(title= \"Number of steps taken in hour\", x= \"24- Hour Timeline\", \n",
    "                                                        y= \"Average steps taken\") +\n",
    "        scale_fill_manual(\"legend\", values = c(\"Yes\" = \"red\", \"No\" = \"blue\")) + theme(text = element_text(size=20))"
   ]
  },
  {
   "cell_type": "markdown",
   "id": "ebc9d014",
   "metadata": {},
   "source": [
    "**Summary for the plot**\n",
    "\n",
    "* The above graph shows the number of steps taken on average by all 33 users from 00:00 hrs to 23:00 hrs\n",
    "* We find that the users have been very active between 08:00AM and 07:00PM which is the office time\n",
    "* It has peaked to 550- 600 steps during lunch-time(12:00PM- 02:00PM) and evening time(05:00PM- 07:00PM). \n",
    "* The average steps between morning transportation and evening transportation varies because normally, **we go straight to office at morning but do errands like shopping when returning home**\n"
   ]
  },
  {
   "cell_type": "markdown",
   "id": "06e88221",
   "metadata": {},
   "source": [
    "## 6 Checking calories burnt and Intensity of workout to check correlation\n",
    "\n",
    "we are going to use hourly intensity dataset and hourly calories dataset for this section. This dataset contains hourly observation for all 33 users individually. Hence we are manipulating data in Excel before importing here.\n",
    "\n",
    "**Data manipulation in Excel**- Before we import the datasets, we are going to manipulate the dataset to get the hourly summary of average intensity and calories for all 33 users."
   ]
  },
  {
   "cell_type": "markdown",
   "id": "25e92f7c",
   "metadata": {},
   "source": [
    "### 6.1 Importing datasets and visualizing individually"
   ]
  },
  {
   "cell_type": "code",
   "execution_count": 15,
   "id": "0e3726a2",
   "metadata": {},
   "outputs": [
    {
     "data": {
      "text/html": [
       "<table class=\"dataframe\">\n",
       "<caption>A data.frame: 6 × 3</caption>\n",
       "<thead>\n",
       "\t<tr><th></th><th scope=col>hours</th><th scope=col>mean_totalIntensity</th><th scope=col>mean_averageIntensity</th></tr>\n",
       "\t<tr><th></th><th scope=col>&lt;int&gt;</th><th scope=col>&lt;dbl&gt;</th><th scope=col>&lt;dbl&gt;</th></tr>\n",
       "</thead>\n",
       "<tbody>\n",
       "\t<tr><th scope=row>1</th><td>0</td><td>2.13</td><td>0.04</td></tr>\n",
       "\t<tr><th scope=row>2</th><td>1</td><td>1.42</td><td>0.02</td></tr>\n",
       "\t<tr><th scope=row>3</th><td>2</td><td>1.04</td><td>0.02</td></tr>\n",
       "\t<tr><th scope=row>4</th><td>3</td><td>0.44</td><td>0.01</td></tr>\n",
       "\t<tr><th scope=row>5</th><td>4</td><td>0.63</td><td>0.01</td></tr>\n",
       "\t<tr><th scope=row>6</th><td>5</td><td>4.95</td><td>0.08</td></tr>\n",
       "</tbody>\n",
       "</table>\n"
      ],
      "text/latex": [
       "A data.frame: 6 × 3\n",
       "\\begin{tabular}{r|lll}\n",
       "  & hours & mean\\_totalIntensity & mean\\_averageIntensity\\\\\n",
       "  & <int> & <dbl> & <dbl>\\\\\n",
       "\\hline\n",
       "\t1 & 0 & 2.13 & 0.04\\\\\n",
       "\t2 & 1 & 1.42 & 0.02\\\\\n",
       "\t3 & 2 & 1.04 & 0.02\\\\\n",
       "\t4 & 3 & 0.44 & 0.01\\\\\n",
       "\t5 & 4 & 0.63 & 0.01\\\\\n",
       "\t6 & 5 & 4.95 & 0.08\\\\\n",
       "\\end{tabular}\n"
      ],
      "text/markdown": [
       "\n",
       "A data.frame: 6 × 3\n",
       "\n",
       "| <!--/--> | hours &lt;int&gt; | mean_totalIntensity &lt;dbl&gt; | mean_averageIntensity &lt;dbl&gt; |\n",
       "|---|---|---|---|\n",
       "| 1 | 0 | 2.13 | 0.04 |\n",
       "| 2 | 1 | 1.42 | 0.02 |\n",
       "| 3 | 2 | 1.04 | 0.02 |\n",
       "| 4 | 3 | 0.44 | 0.01 |\n",
       "| 5 | 4 | 0.63 | 0.01 |\n",
       "| 6 | 5 | 4.95 | 0.08 |\n",
       "\n"
      ],
      "text/plain": [
       "  hours mean_totalIntensity mean_averageIntensity\n",
       "1 0     2.13                0.04                 \n",
       "2 1     1.42                0.02                 \n",
       "3 2     1.04                0.02                 \n",
       "4 3     0.44                0.01                 \n",
       "5 4     0.63                0.01                 \n",
       "6 5     4.95                0.08                 "
      ]
     },
     "metadata": {},
     "output_type": "display_data"
    },
    {
     "data": {
      "image/png": "[encoded data removed]",
      "text/plain": [
       "plot without title"
      ]
     },
     "metadata": {
      "image/png": {
       "height": 360,
       "width": 660
      }
     },
     "output_type": "display_data"
    }
   ],
   "source": [
    "# importing and visualizing hourly intensity dataset\n",
    "hr_intensity= read.csv(paste0(wd,\"/hourlyIntensities_updated.csv\"))\n",
    "head(hr_intensity)\n",
    "\n",
    "ggplot(hr_intensity, aes(x= hours, y= mean_totalIntensity)) + geom_area(fill= \"red3\") + theme(text = element_text(size=20)) + \n",
    "    labs(title= \"Hourly average intensity\", x= \"Hours in 24- hour format\", y= \"Average intensity\")"
   ]
  },
  {
   "cell_type": "code",
   "execution_count": 16,
   "id": "0ca23a6e",
   "metadata": {},
   "outputs": [
    {
     "data": {
      "text/html": [
       "<table class=\"dataframe\">\n",
       "<caption>A data.frame: 6 × 2</caption>\n",
       "<thead>\n",
       "\t<tr><th></th><th scope=col>hours</th><th scope=col>mean_cal</th></tr>\n",
       "\t<tr><th></th><th scope=col>&lt;int&gt;</th><th scope=col>&lt;dbl&gt;</th></tr>\n",
       "</thead>\n",
       "<tbody>\n",
       "\t<tr><th scope=row>1</th><td>0</td><td>71.81</td></tr>\n",
       "\t<tr><th scope=row>2</th><td>1</td><td>70.17</td></tr>\n",
       "\t<tr><th scope=row>3</th><td>2</td><td>69.19</td></tr>\n",
       "\t<tr><th scope=row>4</th><td>3</td><td>67.54</td></tr>\n",
       "\t<tr><th scope=row>5</th><td>4</td><td>68.26</td></tr>\n",
       "\t<tr><th scope=row>6</th><td>5</td><td>81.71</td></tr>\n",
       "</tbody>\n",
       "</table>\n"
      ],
      "text/latex": [
       "A data.frame: 6 × 2\n",
       "\\begin{tabular}{r|ll}\n",
       "  & hours & mean\\_cal\\\\\n",
       "  & <int> & <dbl>\\\\\n",
       "\\hline\n",
       "\t1 & 0 & 71.81\\\\\n",
       "\t2 & 1 & 70.17\\\\\n",
       "\t3 & 2 & 69.19\\\\\n",
       "\t4 & 3 & 67.54\\\\\n",
       "\t5 & 4 & 68.26\\\\\n",
       "\t6 & 5 & 81.71\\\\\n",
       "\\end{tabular}\n"
      ],
      "text/markdown": [
       "\n",
       "A data.frame: 6 × 2\n",
       "\n",
       "| <!--/--> | hours &lt;int&gt; | mean_cal &lt;dbl&gt; |\n",
       "|---|---|---|\n",
       "| 1 | 0 | 71.81 |\n",
       "| 2 | 1 | 70.17 |\n",
       "| 3 | 2 | 69.19 |\n",
       "| 4 | 3 | 67.54 |\n",
       "| 5 | 4 | 68.26 |\n",
       "| 6 | 5 | 81.71 |\n",
       "\n"
      ],
      "text/plain": [
       "  hours mean_cal\n",
       "1 0     71.81   \n",
       "2 1     70.17   \n",
       "3 2     69.19   \n",
       "4 3     67.54   \n",
       "5 4     68.26   \n",
       "6 5     81.71   "
      ]
     },
     "metadata": {},
     "output_type": "display_data"
    },
    {
     "data": {
      "image/png": "[encoded data removed]",
      "text/plain": [
       "plot without title"
      ]
     },
     "metadata": {
      "image/png": {
       "height": 360,
       "width": 660
      }
     },
     "output_type": "display_data"
    }
   ],
   "source": [
    "# importing hourly calories dataset\n",
    "hr_calories= read.csv(paste0(wd,\"/hourlyCalories_updated.csv\"))\n",
    "head(hr_calories)\n",
    "\n",
    "ggplot(hr_calories, aes(x= hours, y= mean_cal)) + geom_area(fill= \"springgreen1\") + theme(text = element_text(size=20)) + \n",
    "    labs(title= \"Hourly average calories\", x= \"Hours in 24- hour format\", y= \"Average calories\")"
   ]
  },
  {
   "cell_type": "markdown",
   "id": "8ba1e2b5",
   "metadata": {},
   "source": [
    "### 6.2 Checking correlation between intensity and calories"
   ]
  },
  {
   "cell_type": "code",
   "execution_count": 17,
   "id": "81f219f8",
   "metadata": {},
   "outputs": [
    {
     "data": {
      "text/html": [
       "<table class=\"dataframe\">\n",
       "<caption>A data.frame: 6 × 4</caption>\n",
       "<thead>\n",
       "\t<tr><th></th><th scope=col>hours</th><th scope=col>mean_totalIntensity</th><th scope=col>mean_averageIntensity</th><th scope=col>mean_cal</th></tr>\n",
       "\t<tr><th></th><th scope=col>&lt;int&gt;</th><th scope=col>&lt;dbl&gt;</th><th scope=col>&lt;dbl&gt;</th><th scope=col>&lt;dbl&gt;</th></tr>\n",
       "</thead>\n",
       "<tbody>\n",
       "\t<tr><th scope=row>1</th><td>0</td><td>2.13</td><td>0.04</td><td>71.81</td></tr>\n",
       "\t<tr><th scope=row>2</th><td>1</td><td>1.42</td><td>0.02</td><td>70.17</td></tr>\n",
       "\t<tr><th scope=row>3</th><td>2</td><td>1.04</td><td>0.02</td><td>69.19</td></tr>\n",
       "\t<tr><th scope=row>4</th><td>3</td><td>0.44</td><td>0.01</td><td>67.54</td></tr>\n",
       "\t<tr><th scope=row>5</th><td>4</td><td>0.63</td><td>0.01</td><td>68.26</td></tr>\n",
       "\t<tr><th scope=row>6</th><td>5</td><td>4.95</td><td>0.08</td><td>81.71</td></tr>\n",
       "</tbody>\n",
       "</table>\n"
      ],
      "text/latex": [
       "A data.frame: 6 × 4\n",
       "\\begin{tabular}{r|llll}\n",
       "  & hours & mean\\_totalIntensity & mean\\_averageIntensity & mean\\_cal\\\\\n",
       "  & <int> & <dbl> & <dbl> & <dbl>\\\\\n",
       "\\hline\n",
       "\t1 & 0 & 2.13 & 0.04 & 71.81\\\\\n",
       "\t2 & 1 & 1.42 & 0.02 & 70.17\\\\\n",
       "\t3 & 2 & 1.04 & 0.02 & 69.19\\\\\n",
       "\t4 & 3 & 0.44 & 0.01 & 67.54\\\\\n",
       "\t5 & 4 & 0.63 & 0.01 & 68.26\\\\\n",
       "\t6 & 5 & 4.95 & 0.08 & 81.71\\\\\n",
       "\\end{tabular}\n"
      ],
      "text/markdown": [
       "\n",
       "A data.frame: 6 × 4\n",
       "\n",
       "| <!--/--> | hours &lt;int&gt; | mean_totalIntensity &lt;dbl&gt; | mean_averageIntensity &lt;dbl&gt; | mean_cal &lt;dbl&gt; |\n",
       "|---|---|---|---|---|\n",
       "| 1 | 0 | 2.13 | 0.04 | 71.81 |\n",
       "| 2 | 1 | 1.42 | 0.02 | 70.17 |\n",
       "| 3 | 2 | 1.04 | 0.02 | 69.19 |\n",
       "| 4 | 3 | 0.44 | 0.01 | 67.54 |\n",
       "| 5 | 4 | 0.63 | 0.01 | 68.26 |\n",
       "| 6 | 5 | 4.95 | 0.08 | 81.71 |\n",
       "\n"
      ],
      "text/plain": [
       "  hours mean_totalIntensity mean_averageIntensity mean_cal\n",
       "1 0     2.13                0.04                  71.81   \n",
       "2 1     1.42                0.02                  70.17   \n",
       "3 2     1.04                0.02                  69.19   \n",
       "4 3     0.44                0.01                  67.54   \n",
       "5 4     0.63                0.01                  68.26   \n",
       "6 5     4.95                0.08                  81.71   "
      ]
     },
     "metadata": {},
     "output_type": "display_data"
    }
   ],
   "source": [
    "# Line graphs to understand relationship between intensity and calories\n",
    "comb_intensity_cal<- sqldf(\"SELECT i.hours, mean_totalIntensity, mean_averageIntensity, \n",
    "                        mean_cal FROM hr_intensity i JOIN hr_calories c ON i.hours= c.hours\")\n",
    "head(comb_intensity_cal)"
   ]
  },
  {
   "cell_type": "code",
   "execution_count": 18,
   "id": "497749a2",
   "metadata": {},
   "outputs": [
    {
     "name": "stderr",
     "output_type": "stream",
     "text": [
      "`geom_smooth()` using formula 'y ~ x'\n",
      "\n"
     ]
    },
    {
     "data": {
      "image/png": "[encoded data removed]",
      "text/plain": [
       "plot without title"
      ]
     },
     "metadata": {
      "image/png": {
       "height": 360,
       "width": 660
      }
     },
     "output_type": "display_data"
    }
   ],
   "source": [
    "ggplot(comb_intensity_cal, aes(x= mean_totalIntensity, y= mean_cal)) + geom_point(size= 3, color= \"black\") +\n",
    "        geom_smooth(method= 'lm', color= \"red\") + \n",
    "        labs(title= \"Relation between intensity of workout and calories burnt\", x= \"Intensity of workout\", y= \" Average Calories burnt\") +\n",
    "        theme(text = element_text(size=20))"
   ]
  },
  {
   "cell_type": "markdown",
   "id": "5a1dc065",
   "metadata": {},
   "source": [
    "**Summary**\n",
    "\n",
    "* From this combined dataset, we find that as average intensity of workout increases, the calories burnt also increases linearly. Hence we conclude that Average intensity has positive correlation with average calories burnt."
   ]
  },
  {
   "cell_type": "markdown",
   "id": "aeabd901",
   "metadata": {},
   "source": [
    "##  7 Relationship between BMI and Weight\n",
    "\n",
    "We need to check the following after storing in a df:\n",
    "\n",
    "* Out of 33 users, how many users updated their BMI and weight info.\n",
    "* Check for any **outliers in the BMI value** and remove if necessary\n",
    "* Understand the relationship between BMI and Weight\n",
    "\n",
    "**Note**: *Outliers* are values that are very different from remaining values and probably wrong values. Hence, need to be removed while calculation."
   ]
  },
  {
   "cell_type": "code",
   "execution_count": 19,
   "id": "73b5fc90",
   "metadata": {},
   "outputs": [
    {
     "name": "stderr",
     "output_type": "stream",
     "text": [
      "\u001b[1mRows: \u001b[22m\u001b[34m67\u001b[39m \u001b[1mColumns: \u001b[22m\u001b[34m8\u001b[39m\n",
      "\n",
      "\u001b[36m--\u001b[39m \u001b[1mColumn specification\u001b[22m \u001b[36m------------------------------------------------------------------------------------------------\u001b[39m\n",
      "\u001b[1mDelimiter:\u001b[22m \",\"\n",
      "\u001b[31mchr\u001b[39m (1): Date\n",
      "\u001b[32mdbl\u001b[39m (6): Id, WeightKg, WeightPounds, Fat, BMI, LogId\n",
      "\u001b[33mlgl\u001b[39m (1): IsManualReport\n",
      "\n",
      "\n",
      "\u001b[36mi\u001b[39m Use \u001b[30m\u001b[47m\u001b[30m\u001b[47m`spec()`\u001b[47m\u001b[30m\u001b[49m\u001b[39m to retrieve the full column specification for this data.\n",
      "\u001b[36mi\u001b[39m Specify the column types or set \u001b[30m\u001b[47m\u001b[30m\u001b[47m`show_col_types = FALSE`\u001b[47m\u001b[30m\u001b[49m\u001b[39m to quiet this message.\n",
      "\n"
     ]
    },
    {
     "data": {
      "text/html": [
       "<table class=\"dataframe\">\n",
       "<caption>A tibble: 6 × 8</caption>\n",
       "<thead>\n",
       "\t<tr><th scope=col>Id</th><th scope=col>Date</th><th scope=col>WeightKg</th><th scope=col>WeightPounds</th><th scope=col>Fat</th><th scope=col>BMI</th><th scope=col>IsManualReport</th><th scope=col>LogId</th></tr>\n",
       "\t<tr><th scope=col>&lt;dbl&gt;</th><th scope=col>&lt;chr&gt;</th><th scope=col>&lt;dbl&gt;</th><th scope=col>&lt;dbl&gt;</th><th scope=col>&lt;dbl&gt;</th><th scope=col>&lt;dbl&gt;</th><th scope=col>&lt;lgl&gt;</th><th scope=col>&lt;dbl&gt;</th></tr>\n",
       "</thead>\n",
       "<tbody>\n",
       "\t<tr><td>1503960366</td><td>5/2/2016 23:59 </td><td> 52.6</td><td>115.9631</td><td>22</td><td>22.65</td><td> TRUE</td><td>1.46223e+12</td></tr>\n",
       "\t<tr><td>1503960366</td><td>5/3/2016 23:59 </td><td> 52.6</td><td>115.9631</td><td>NA</td><td>22.65</td><td> TRUE</td><td>1.46232e+12</td></tr>\n",
       "\t<tr><td>1927972279</td><td>4/13/2016 1:08 </td><td>133.5</td><td>294.3171</td><td>NA</td><td>47.54</td><td>FALSE</td><td>1.46051e+12</td></tr>\n",
       "\t<tr><td>2873212765</td><td>4/21/2016 23:59</td><td> 56.7</td><td>125.0021</td><td>NA</td><td>21.45</td><td> TRUE</td><td>1.46128e+12</td></tr>\n",
       "\t<tr><td>2873212765</td><td>5/12/2016 23:59</td><td> 57.3</td><td>126.3249</td><td>NA</td><td>21.69</td><td> TRUE</td><td>1.46310e+12</td></tr>\n",
       "\t<tr><td>4319703577</td><td>4/17/2016 23:59</td><td> 72.4</td><td>159.6147</td><td>25</td><td>27.45</td><td> TRUE</td><td>1.46094e+12</td></tr>\n",
       "</tbody>\n",
       "</table>\n"
      ],
      "text/latex": [
       "A tibble: 6 × 8\n",
       "\\begin{tabular}{llllllll}\n",
       " Id & Date & WeightKg & WeightPounds & Fat & BMI & IsManualReport & LogId\\\\\n",
       " <dbl> & <chr> & <dbl> & <dbl> & <dbl> & <dbl> & <lgl> & <dbl>\\\\\n",
       "\\hline\n",
       "\t 1503960366 & 5/2/2016 23:59  &  52.6 & 115.9631 & 22 & 22.65 &  TRUE & 1.46223e+12\\\\\n",
       "\t 1503960366 & 5/3/2016 23:59  &  52.6 & 115.9631 & NA & 22.65 &  TRUE & 1.46232e+12\\\\\n",
       "\t 1927972279 & 4/13/2016 1:08  & 133.5 & 294.3171 & NA & 47.54 & FALSE & 1.46051e+12\\\\\n",
       "\t 2873212765 & 4/21/2016 23:59 &  56.7 & 125.0021 & NA & 21.45 &  TRUE & 1.46128e+12\\\\\n",
       "\t 2873212765 & 5/12/2016 23:59 &  57.3 & 126.3249 & NA & 21.69 &  TRUE & 1.46310e+12\\\\\n",
       "\t 4319703577 & 4/17/2016 23:59 &  72.4 & 159.6147 & 25 & 27.45 &  TRUE & 1.46094e+12\\\\\n",
       "\\end{tabular}\n"
      ],
      "text/markdown": [
       "\n",
       "A tibble: 6 × 8\n",
       "\n",
       "| Id &lt;dbl&gt; | Date &lt;chr&gt; | WeightKg &lt;dbl&gt; | WeightPounds &lt;dbl&gt; | Fat &lt;dbl&gt; | BMI &lt;dbl&gt; | IsManualReport &lt;lgl&gt; | LogId &lt;dbl&gt; |\n",
       "|---|---|---|---|---|---|---|---|\n",
       "| 1503960366 | 5/2/2016 23:59  |  52.6 | 115.9631 | 22 | 22.65 |  TRUE | 1.46223e+12 |\n",
       "| 1503960366 | 5/3/2016 23:59  |  52.6 | 115.9631 | NA | 22.65 |  TRUE | 1.46232e+12 |\n",
       "| 1927972279 | 4/13/2016 1:08  | 133.5 | 294.3171 | NA | 47.54 | FALSE | 1.46051e+12 |\n",
       "| 2873212765 | 4/21/2016 23:59 |  56.7 | 125.0021 | NA | 21.45 |  TRUE | 1.46128e+12 |\n",
       "| 2873212765 | 5/12/2016 23:59 |  57.3 | 126.3249 | NA | 21.69 |  TRUE | 1.46310e+12 |\n",
       "| 4319703577 | 4/17/2016 23:59 |  72.4 | 159.6147 | 25 | 27.45 |  TRUE | 1.46094e+12 |\n",
       "\n"
      ],
      "text/plain": [
       "  Id         Date            WeightKg WeightPounds Fat BMI   IsManualReport\n",
       "1 1503960366 5/2/2016 23:59   52.6    115.9631     22  22.65  TRUE         \n",
       "2 1503960366 5/3/2016 23:59   52.6    115.9631     NA  22.65  TRUE         \n",
       "3 1927972279 4/13/2016 1:08  133.5    294.3171     NA  47.54 FALSE         \n",
       "4 2873212765 4/21/2016 23:59  56.7    125.0021     NA  21.45  TRUE         \n",
       "5 2873212765 5/12/2016 23:59  57.3    126.3249     NA  21.69  TRUE         \n",
       "6 4319703577 4/17/2016 23:59  72.4    159.6147     25  27.45  TRUE         \n",
       "  LogId      \n",
       "1 1.46223e+12\n",
       "2 1.46232e+12\n",
       "3 1.46051e+12\n",
       "4 1.46128e+12\n",
       "5 1.46310e+12\n",
       "6 1.46094e+12"
      ]
     },
     "metadata": {},
     "output_type": "display_data"
    }
   ],
   "source": [
    "weight_info <- read_csv(paste0(wd,\"/weightLogInfo_merged.csv\"))\n",
    "head(weight_info)"
   ]
  },
  {
   "cell_type": "code",
   "execution_count": 20,
   "id": "b897dc5f",
   "metadata": {},
   "outputs": [
    {
     "data": {
      "text/html": [
       "<table class=\"dataframe\">\n",
       "<caption>A data.frame: 1 × 1</caption>\n",
       "<thead>\n",
       "\t<tr><th scope=col>ID_count</th></tr>\n",
       "\t<tr><th scope=col>&lt;int&gt;</th></tr>\n",
       "</thead>\n",
       "<tbody>\n",
       "\t<tr><td>8</td></tr>\n",
       "</tbody>\n",
       "</table>\n"
      ],
      "text/latex": [
       "A data.frame: 1 × 1\n",
       "\\begin{tabular}{l}\n",
       " ID\\_count\\\\\n",
       " <int>\\\\\n",
       "\\hline\n",
       "\t 8\\\\\n",
       "\\end{tabular}\n"
      ],
      "text/markdown": [
       "\n",
       "A data.frame: 1 × 1\n",
       "\n",
       "| ID_count &lt;int&gt; |\n",
       "|---|\n",
       "| 8 |\n",
       "\n"
      ],
      "text/plain": [
       "  ID_count\n",
       "1 8       "
      ]
     },
     "metadata": {},
     "output_type": "display_data"
    }
   ],
   "source": [
    "sqldf(\"select count(distinct Id) as ID_count from weight_info\")\n",
    "# we see that only 8 people have measured that weight values. We need to check whether any wrong BMI value is there"
   ]
  },
  {
   "cell_type": "code",
   "execution_count": 21,
   "id": "fdbd25ac",
   "metadata": {},
   "outputs": [
    {
     "data": {
      "text/html": [
       "<table class=\"dataframe\">\n",
       "<caption>A data.frame: 1 × 3</caption>\n",
       "<thead>\n",
       "\t<tr><th scope=col>Id</th><th scope=col>BMI</th><th scope=col>IsManualReport</th></tr>\n",
       "\t<tr><th scope=col>&lt;dbl&gt;</th><th scope=col>&lt;dbl&gt;</th><th scope=col>&lt;lgl&gt;</th></tr>\n",
       "</thead>\n",
       "<tbody>\n",
       "\t<tr><td>1927972279</td><td>47.54</td><td>FALSE</td></tr>\n",
       "</tbody>\n",
       "</table>\n"
      ],
      "text/latex": [
       "A data.frame: 1 × 3\n",
       "\\begin{tabular}{lll}\n",
       " Id & BMI & IsManualReport\\\\\n",
       " <dbl> & <dbl> & <lgl>\\\\\n",
       "\\hline\n",
       "\t 1927972279 & 47.54 & FALSE\\\\\n",
       "\\end{tabular}\n"
      ],
      "text/markdown": [
       "\n",
       "A data.frame: 1 × 3\n",
       "\n",
       "| Id &lt;dbl&gt; | BMI &lt;dbl&gt; | IsManualReport &lt;lgl&gt; |\n",
       "|---|---|---|\n",
       "| 1927972279 | 47.54 | FALSE |\n",
       "\n"
      ],
      "text/plain": [
       "  Id         BMI   IsManualReport\n",
       "1 1927972279 47.54 FALSE         "
      ]
     },
     "metadata": {},
     "output_type": "display_data"
    }
   ],
   "source": [
    "sqldf(\"select Id, BMI, IsManualReport from weight_info where Id= 1927972279\")\n",
    "\n",
    "# This is giving wrong BMI of 47.54 . Hence we are removing this outlier. "
   ]
  },
  {
   "cell_type": "code",
   "execution_count": 22,
   "id": "964b0739",
   "metadata": {
    "scrolled": true
   },
   "outputs": [
    {
     "data": {
      "text/html": [
       "<table class=\"dataframe\">\n",
       "<caption>A tibble: 6 × 8</caption>\n",
       "<thead>\n",
       "\t<tr><th scope=col>Id</th><th scope=col>Date</th><th scope=col>WeightKg</th><th scope=col>WeightPounds</th><th scope=col>Fat</th><th scope=col>BMI</th><th scope=col>IsManualReport</th><th scope=col>LogId</th></tr>\n",
       "\t<tr><th scope=col>&lt;dbl&gt;</th><th scope=col>&lt;chr&gt;</th><th scope=col>&lt;dbl&gt;</th><th scope=col>&lt;dbl&gt;</th><th scope=col>&lt;dbl&gt;</th><th scope=col>&lt;dbl&gt;</th><th scope=col>&lt;lgl&gt;</th><th scope=col>&lt;dbl&gt;</th></tr>\n",
       "</thead>\n",
       "<tbody>\n",
       "\t<tr><td>5577150313</td><td>4/17/2016 9:17 </td><td>90.7</td><td>199.9593</td><td>NA</td><td>28.00</td><td>FALSE</td><td>1.46088e+12</td></tr>\n",
       "\t<tr><td>4558609924</td><td>4/25/2016 23:59</td><td>70.3</td><td>154.9850</td><td>NA</td><td>27.46</td><td> TRUE</td><td>1.46163e+12</td></tr>\n",
       "\t<tr><td>4319703577</td><td>4/17/2016 23:59</td><td>72.4</td><td>159.6147</td><td>25</td><td>27.45</td><td> TRUE</td><td>1.46094e+12</td></tr>\n",
       "\t<tr><td>4319703577</td><td>5/4/2016 23:59 </td><td>72.3</td><td>159.3942</td><td>NA</td><td>27.38</td><td> TRUE</td><td>1.46241e+12</td></tr>\n",
       "\t<tr><td>4558609924</td><td>5/1/2016 23:59 </td><td>69.9</td><td>154.1031</td><td>NA</td><td>27.32</td><td> TRUE</td><td>1.46215e+12</td></tr>\n",
       "\t<tr><td>4558609924</td><td>4/18/2016 23:59</td><td>69.7</td><td>153.6622</td><td>NA</td><td>27.25</td><td> TRUE</td><td>1.46102e+12</td></tr>\n",
       "</tbody>\n",
       "</table>\n"
      ],
      "text/latex": [
       "A tibble: 6 × 8\n",
       "\\begin{tabular}{llllllll}\n",
       " Id & Date & WeightKg & WeightPounds & Fat & BMI & IsManualReport & LogId\\\\\n",
       " <dbl> & <chr> & <dbl> & <dbl> & <dbl> & <dbl> & <lgl> & <dbl>\\\\\n",
       "\\hline\n",
       "\t 5577150313 & 4/17/2016 9:17  & 90.7 & 199.9593 & NA & 28.00 & FALSE & 1.46088e+12\\\\\n",
       "\t 4558609924 & 4/25/2016 23:59 & 70.3 & 154.9850 & NA & 27.46 &  TRUE & 1.46163e+12\\\\\n",
       "\t 4319703577 & 4/17/2016 23:59 & 72.4 & 159.6147 & 25 & 27.45 &  TRUE & 1.46094e+12\\\\\n",
       "\t 4319703577 & 5/4/2016 23:59  & 72.3 & 159.3942 & NA & 27.38 &  TRUE & 1.46241e+12\\\\\n",
       "\t 4558609924 & 5/1/2016 23:59  & 69.9 & 154.1031 & NA & 27.32 &  TRUE & 1.46215e+12\\\\\n",
       "\t 4558609924 & 4/18/2016 23:59 & 69.7 & 153.6622 & NA & 27.25 &  TRUE & 1.46102e+12\\\\\n",
       "\\end{tabular}\n"
      ],
      "text/markdown": [
       "\n",
       "A tibble: 6 × 8\n",
       "\n",
       "| Id &lt;dbl&gt; | Date &lt;chr&gt; | WeightKg &lt;dbl&gt; | WeightPounds &lt;dbl&gt; | Fat &lt;dbl&gt; | BMI &lt;dbl&gt; | IsManualReport &lt;lgl&gt; | LogId &lt;dbl&gt; |\n",
       "|---|---|---|---|---|---|---|---|\n",
       "| 5577150313 | 4/17/2016 9:17  | 90.7 | 199.9593 | NA | 28.00 | FALSE | 1.46088e+12 |\n",
       "| 4558609924 | 4/25/2016 23:59 | 70.3 | 154.9850 | NA | 27.46 |  TRUE | 1.46163e+12 |\n",
       "| 4319703577 | 4/17/2016 23:59 | 72.4 | 159.6147 | 25 | 27.45 |  TRUE | 1.46094e+12 |\n",
       "| 4319703577 | 5/4/2016 23:59  | 72.3 | 159.3942 | NA | 27.38 |  TRUE | 1.46241e+12 |\n",
       "| 4558609924 | 5/1/2016 23:59  | 69.9 | 154.1031 | NA | 27.32 |  TRUE | 1.46215e+12 |\n",
       "| 4558609924 | 4/18/2016 23:59 | 69.7 | 153.6622 | NA | 27.25 |  TRUE | 1.46102e+12 |\n",
       "\n"
      ],
      "text/plain": [
       "  Id         Date            WeightKg WeightPounds Fat BMI   IsManualReport\n",
       "1 5577150313 4/17/2016 9:17  90.7     199.9593     NA  28.00 FALSE         \n",
       "2 4558609924 4/25/2016 23:59 70.3     154.9850     NA  27.46  TRUE         \n",
       "3 4319703577 4/17/2016 23:59 72.4     159.6147     25  27.45  TRUE         \n",
       "4 4319703577 5/4/2016 23:59  72.3     159.3942     NA  27.38  TRUE         \n",
       "5 4558609924 5/1/2016 23:59  69.9     154.1031     NA  27.32  TRUE         \n",
       "6 4558609924 4/18/2016 23:59 69.7     153.6622     NA  27.25  TRUE         \n",
       "  LogId      \n",
       "1 1.46088e+12\n",
       "2 1.46163e+12\n",
       "3 1.46094e+12\n",
       "4 1.46241e+12\n",
       "5 1.46215e+12\n",
       "6 1.46102e+12"
      ]
     },
     "metadata": {},
     "output_type": "display_data"
    }
   ],
   "source": [
    "corrected_weight_info <- subset(weight_info, !BMI>=47.54)\n",
    "corrected_weight_info  %>% arrange(-BMI)  %>% head()\n",
    "\n",
    "# As per the corrected dataset, we see that the wrong BMI value has been removed"
   ]
  },
  {
   "cell_type": "code",
   "execution_count": 23,
   "id": "d65e88eb",
   "metadata": {},
   "outputs": [
    {
     "data": {
      "text/html": [
       "<table class=\"dataframe\">\n",
       "<caption>A tibble: 7 × 3</caption>\n",
       "<thead>\n",
       "\t<tr><th scope=col>Id</th><th scope=col>avg_weight_lbs</th><th scope=col>avg_BMI</th></tr>\n",
       "\t<tr><th scope=col>&lt;dbl&gt;</th><th scope=col>&lt;dbl&gt;</th><th scope=col>&lt;dbl&gt;</th></tr>\n",
       "</thead>\n",
       "<tbody>\n",
       "\t<tr><td>1503960366</td><td>115.9631</td><td>22.65000</td></tr>\n",
       "\t<tr><td>2873212765</td><td>125.6635</td><td>21.57000</td></tr>\n",
       "\t<tr><td>6962181067</td><td>135.7019</td><td>24.02800</td></tr>\n",
       "\t<tr><td>4558609924</td><td>153.5299</td><td>27.21400</td></tr>\n",
       "\t<tr><td>4319703577</td><td>159.5045</td><td>27.41500</td></tr>\n",
       "\t<tr><td>8877689391</td><td>187.7144</td><td>25.48708</td></tr>\n",
       "\t<tr><td>5577150313</td><td>199.9593</td><td>28.00000</td></tr>\n",
       "</tbody>\n",
       "</table>\n"
      ],
      "text/latex": [
       "A tibble: 7 × 3\n",
       "\\begin{tabular}{lll}\n",
       " Id & avg\\_weight\\_lbs & avg\\_BMI\\\\\n",
       " <dbl> & <dbl> & <dbl>\\\\\n",
       "\\hline\n",
       "\t 1503960366 & 115.9631 & 22.65000\\\\\n",
       "\t 2873212765 & 125.6635 & 21.57000\\\\\n",
       "\t 6962181067 & 135.7019 & 24.02800\\\\\n",
       "\t 4558609924 & 153.5299 & 27.21400\\\\\n",
       "\t 4319703577 & 159.5045 & 27.41500\\\\\n",
       "\t 8877689391 & 187.7144 & 25.48708\\\\\n",
       "\t 5577150313 & 199.9593 & 28.00000\\\\\n",
       "\\end{tabular}\n"
      ],
      "text/markdown": [
       "\n",
       "A tibble: 7 × 3\n",
       "\n",
       "| Id &lt;dbl&gt; | avg_weight_lbs &lt;dbl&gt; | avg_BMI &lt;dbl&gt; |\n",
       "|---|---|---|\n",
       "| 1503960366 | 115.9631 | 22.65000 |\n",
       "| 2873212765 | 125.6635 | 21.57000 |\n",
       "| 6962181067 | 135.7019 | 24.02800 |\n",
       "| 4558609924 | 153.5299 | 27.21400 |\n",
       "| 4319703577 | 159.5045 | 27.41500 |\n",
       "| 8877689391 | 187.7144 | 25.48708 |\n",
       "| 5577150313 | 199.9593 | 28.00000 |\n",
       "\n"
      ],
      "text/plain": [
       "  Id         avg_weight_lbs avg_BMI \n",
       "1 1503960366 115.9631       22.65000\n",
       "2 2873212765 125.6635       21.57000\n",
       "3 6962181067 135.7019       24.02800\n",
       "4 4558609924 153.5299       27.21400\n",
       "5 4319703577 159.5045       27.41500\n",
       "6 8877689391 187.7144       25.48708\n",
       "7 5577150313 199.9593       28.00000"
      ]
     },
     "metadata": {},
     "output_type": "display_data"
    },
    {
     "name": "stderr",
     "output_type": "stream",
     "text": [
      "`geom_smooth()` using formula 'y ~ x'\n",
      "\n"
     ]
    },
    {
     "data": {
      "image/png": "[encoded data removed]",
      "text/plain": [
       "plot without title"
      ]
     },
     "metadata": {
      "image/png": {
       "height": 360,
       "width": 660
      }
     },
     "output_type": "display_data"
    }
   ],
   "source": [
    "# Checking for relation\n",
    "\n",
    "bmi_weight_cor <- corrected_weight_info  %>% group_by(Id)  %>% summarise(avg_weight_lbs= mean(WeightPounds),avg_BMI= mean(BMI))\n",
    "bmi_weight_cor  %>% arrange(avg_weight_lbs)\n",
    "ggplot(bmi_weight_cor, aes(x= avg_weight_lbs, y= avg_BMI))+ geom_point(color= \"blue\", size= 5)+ geom_smooth(method ='lm', se= FALSE, color= \"red\") +\n",
    "labs(title= \"BMI vs Weight in Lbs\", x= \"user weight\", y=\"user BMI\") + theme(text = element_text(size=20))\n",
    "\n",
    "# From the graph below, we can find that there is positive correlation between BMI and weight"
   ]
  }
 ],
 "metadata": {
  "kernelspec": {
   "display_name": "R",
   "language": "R",
   "name": "ir"
  },
  "language_info": {
   "codemirror_mode": "r",
   "file_extension": ".r",
   "mimetype": "text/x-r-source",
   "name": "R",
   "pygments_lexer": "r",
   "version": "4.1.2"
  }
 },
 "nbformat": 4,
 "nbformat_minor": 5
}
